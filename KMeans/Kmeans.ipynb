{
 "cells": [
  {
   "cell_type": "markdown",
   "id": "722d05f5-c65b-4ce5-91f8-bf9b8f96d1ba",
   "metadata": {},
   "source": [
    "# Kmenas"
   ]
  },
  {
   "cell_type": "markdown",
   "id": "e9475768-9f4a-41e0-9bab-cbfb6b1df988",
   "metadata": {},
   "source": [
    "## Definition"
   ]
  },
  {
   "cell_type": "markdown",
   "id": "cc0e1a58-5690-49d0-bc4c-b05901fb5dca",
   "metadata": {},
   "source": [
    "K-means is a popular clustering algorithm used in data analysis and machine learning. It aims to partition a set of observations into $ K $ clusters, with each observation belonging to the cluster with the nearest mean."
   ]
  },
  {
   "cell_type": "markdown",
   "id": "538d9870-4622-4c2d-819f-775abaab79a6",
   "metadata": {},
   "source": [
    "## Assumptions"
   ]
  },
  {
   "cell_type": "markdown",
   "id": "d4a1c71c-feaf-4341-83ad-bb0ad19ebd52",
   "metadata": {},
   "source": [
    "1. **Spherical Clusters**: K-means assumes that the clusters are spherical and roughly of the same size, meaning that a cluster's variance is the same in all directions. This assumption helps in defining the boundaries of the clusters.\n",
    "\n",
    "2. **Similar Variance**: Each cluster is assumed to have roughly equal variance, meaning the spread of clusters is similar. If the variance is significantly different, K-means may struggle to identify the actual clusters correctly.\n",
    "\n",
    "3. **Clusters are Separable and Non-hierarchical**: The algorithm works best when the clusters are separable and non-hierarchical, which means it doesn't assume any relationship between the clusters.\n",
    "\n",
    "4. **Centroid Represents the Mean**: It's assumed that the centroid of a cluster accurately represents the mean of all points in the cluster.\n",
    "\n",
    "5. **Number of Clusters ($ K $)**: One of the main limitations of K-means is that you need to specify the number of clusters ($ K $) beforehand."
   ]
  },
  {
   "cell_type": "markdown",
   "id": "4286ed2e-a37f-4d55-9113-757c000b175a",
   "metadata": {},
   "source": [
    "## Algorithm"
   ]
  },
  {
   "cell_type": "markdown",
   "id": "a838113d-0960-4534-b9a7-7084ab477cfd",
   "metadata": {},
   "source": [
    "Absolutely, let's integrate K-means++ into the detailed explanation of the K-means algorithm:\n",
    "\n",
    "### K-means Algorithm with K-means++ Initialization\n",
    "\n",
    "#### Step 1: Initialization with K-means++\n",
    "\n",
    "1. **Select the First Centroid**: Randomly pick the first centroid $ \\mu_1 $ from the data points.\n",
    "\n",
    "2. **Select Subsequent Centroids**: For each next centroid $ \\mu_k $ (where $ k = 2, 3, \\ldots, K $):\n",
    "   \n",
    "   a. Calculate the distance $ D(x) $ for each data point $ x $, which is the shortest distance from $ x $ to any of the already chosen centroids. Mathematically, this is:\n",
    "      $$ D(x) = \\min_{i=1}^{k-1} \\| x - \\mu_i \\|^2 $$\n",
    "   \n",
    "   b. Choose the next centroid $ \\mu_k $ randomly from the data points, where the probability of choosing point $ x $ is proportional to $ D(x)^2 $.\n",
    "\n",
    "   c. Repeat until all $ K $ centroids are chosen.\n",
    "\n",
    "- **K-means++ Initialization**: This approach aims to spread out the initial centroids, leading to better and more reliable clustering.\n",
    "- **Iterative Optimization**: The algorithm refines the clusters iteratively to minimize within-cluster variances.\n",
    "- **Convergence**: The algorithm typically converges to a solution that, while not necessarily globally optimal, is often a good approximation for practical purposes.\n",
    "\n",
    "#### Step 2: Assignment of Data Points to Clusters\n",
    "\n",
    "Once the centroids are initialized, proceed with the iterative K-means process:\n",
    "\n",
    "1. **Assignment Step**: Each data point is assigned to the nearest cluster. For each data point $ x_i $, find the nearest centroid and assign $ x_i $ to that cluster. The assignment can be expressed as:\n",
    "   $$ \n",
    "   S_i^{(t)} = \\{ x_p : \\| x_p - \\mu_i^{(t)} \\|^2 \\leq \\| x_p - \\mu_j^{(t)} \\|^2 \\forall j, 1 \\leq j \\leq K \\}\n",
    "   $$\n",
    "   Here, $ S_i^{(t)} $ represents the set of data points assigned to the $ i $-th cluster at iteration $ t $.\n",
    "\n",
    "#### Step 3: Update the Centroids\n",
    "\n",
    "2. **Update Step**: Calculate the new centroids as the mean of all points assigned to each cluster. The new centroid $ \\mu_i^{(t+1)} $ for the $ i $-th cluster is computed as:\n",
    "   $$ \n",
    "   \\mu_i^{(t+1)} = \\frac{1}{|S_i^{(t)}|} \\sum_{x_j \\in S_i^{(t)}} x_j \n",
    "   $$\n",
    "   Here, $ |S_i^{(t)}| $ is the number of data points in the $ i $-th cluster at iteration $ t $.\n",
    "\n",
    "#### Step 4: Convergence Check\n",
    "\n",
    "The assignment and update steps are repeated until the centroids stabilize, meaning the assignments no longer change or the changes are below a certain threshold. This iterative process ensures that the algorithm converges to a set of centroids that best represent the clusters in the dataset.\n"
   ]
  },
  {
   "cell_type": "markdown",
   "id": "8f1a13f2-0efd-41c8-998d-dc2dab8a9b98",
   "metadata": {},
   "source": [
    "## Pros and Cons"
   ]
  },
  {
   "cell_type": "markdown",
   "id": "602cebfb-742a-494e-8838-4e74efc80243",
   "metadata": {},
   "source": [
    "K-means is a widely used clustering algorithm due to its simplicity and efficiency. However, like any algorithm, it has its strengths and weaknesses. Here are some of the pros and cons of K-means:\n",
    "\n",
    "### Pros of K-means:\n",
    "\n",
    "1. **Simple and Easy to Implement**: K-means is straightforward to understand and implement, making it a popular choice for many clustering tasks.\n",
    "\n",
    "2. **Efficiency**: It is computationally efficient, especially for large datasets, due to its linear complexity $ O(n) $, where $ n $ is the number of data points.\n",
    "\n",
    "3. **Scalability**: K-means can be easily scaled to large data sets and high-dimensional data.\n",
    "\n",
    "4. **Well-suited for Spherical Clusters**: It works well when the clusters are distinct and well-separated.\n",
    "\n",
    "5. **Adaptability**: K-means can be easily adapted for a wide range of different domains and types of data.\n",
    "\n",
    "6. **Good for Hard Clustering**: It provides a clear partitioning of the dataset, assigning each data point to a single cluster.\n",
    "\n",
    "### Cons of K-means:\n",
    "\n",
    "1. **Requirement of Specifying $ K $**: You need to specify the number of clusters ($ K $) in advance, which can be challenging without domain knowledge or additional methods like the Elbow method.\n",
    "\n",
    "2. **Sensitivity to Initial Centroids**: The final results can vary based on the initial choice of centroids. K-means++ helps alleviate this issue but doesn't completely eliminate it.\n",
    "\n",
    "3. **Poor Performance with Non-Spherical Clusters**: K-means assumes that clusters are spherical and of similar size, which might not always be the case. It performs poorly with complex geometrical shaped data or clusters of varying sizes and densities.\n",
    "\n",
    "4. **Local Optima**: K-means may converge to a local optimum depending on the initial centroid positions. This means it doesn't guarantee a globally optimal solution.\n",
    "\n",
    "5. **Sensitive to Outliers**: Outliers can significantly skew the means of the clusters, leading to inaccurate clustering.\n",
    "\n",
    "6. **Not Suitable for Categorical Data**: K-means is primarily designed for continuous numerical data and does not work well with categorical data.\n",
    "\n",
    "7. **Lack of Hierarchical Structure**: K-means does not provide any hierarchical relationship among clusters.\n",
    "\n",
    "8. **Feature Scaling Dependency**: The performance of K-means is heavily influenced by the scale of the data. Features need to be scaled for the algorithm to work properly.\n",
    "\n",
    "In summary, while K-means is a powerful tool for certain clustering tasks, its effectiveness can be limited by the nature of the data and the specific requirements of the application. It's often used as a first-line approach, with more complex algorithms considered if K-means proves inadequate."
   ]
  },
  {
   "cell_type": "markdown",
   "id": "a5eb1c0f-366c-4f4d-bf82-abf97b071688",
   "metadata": {},
   "source": [
    "## Code"
   ]
  },
  {
   "cell_type": "markdown",
   "id": "e8182726-baf8-4283-8cc3-c706a8ed1946",
   "metadata": {},
   "source": [
    "## Numpy"
   ]
  },
  {
   "cell_type": "code",
   "execution_count": 1,
   "id": "104dbd7c-d97a-4f78-8464-2a89cf6bcab5",
   "metadata": {},
   "outputs": [],
   "source": [
    "from Kmeans_numpy import *\n",
    "import numpy as np\n",
    "import warnings\n",
    "warnings.filterwarnings('ignore')\n",
    "from datasets import load_dataset\n",
    "from sklearn.cluster import KMeans"
   ]
  },
  {
   "cell_type": "code",
   "execution_count": 2,
   "id": "d1aa8e5a-57a6-46ec-95c2-ac7277d198a0",
   "metadata": {},
   "outputs": [
    {
     "data": {
      "text/html": [
       "<div>\n",
       "<style scoped>\n",
       "    .dataframe tbody tr th:only-of-type {\n",
       "        vertical-align: middle;\n",
       "    }\n",
       "\n",
       "    .dataframe tbody tr th {\n",
       "        vertical-align: top;\n",
       "    }\n",
       "\n",
       "    .dataframe thead th {\n",
       "        text-align: right;\n",
       "    }\n",
       "</style>\n",
       "<table border=\"1\" class=\"dataframe\">\n",
       "  <thead>\n",
       "    <tr style=\"text-align: right;\">\n",
       "      <th></th>\n",
       "      <th>time_in_hospital</th>\n",
       "      <th>num_lab_procedures</th>\n",
       "      <th>num_procedures</th>\n",
       "      <th>num_medications</th>\n",
       "      <th>number_outpatient</th>\n",
       "      <th>number_emergency</th>\n",
       "      <th>number_inpatient</th>\n",
       "      <th>number_diagnoses</th>\n",
       "      <th>change</th>\n",
       "      <th>diabetesMed</th>\n",
       "      <th>...</th>\n",
       "      <th>glyburide-metformin:Up</th>\n",
       "      <th>A1Cresult:&gt;7</th>\n",
       "      <th>A1Cresult:&gt;8</th>\n",
       "      <th>A1Cresult:None</th>\n",
       "      <th>A1Cresult:Norm</th>\n",
       "      <th>max_glu_serum:&gt;200</th>\n",
       "      <th>max_glu_serum:&gt;300</th>\n",
       "      <th>max_glu_serum:None</th>\n",
       "      <th>max_glu_serum:Norm</th>\n",
       "      <th>readmitted</th>\n",
       "    </tr>\n",
       "  </thead>\n",
       "  <tbody>\n",
       "    <tr>\n",
       "      <th>0</th>\n",
       "      <td>2.0</td>\n",
       "      <td>38.0</td>\n",
       "      <td>3.0</td>\n",
       "      <td>27.0</td>\n",
       "      <td>0.0</td>\n",
       "      <td>1.0</td>\n",
       "      <td>2.0</td>\n",
       "      <td>7.0</td>\n",
       "      <td>1.0</td>\n",
       "      <td>1.0</td>\n",
       "      <td>...</td>\n",
       "      <td>0.0</td>\n",
       "      <td>0.0</td>\n",
       "      <td>0.0</td>\n",
       "      <td>1.0</td>\n",
       "      <td>0.0</td>\n",
       "      <td>0.0</td>\n",
       "      <td>0.0</td>\n",
       "      <td>1.0</td>\n",
       "      <td>0.0</td>\n",
       "      <td>0</td>\n",
       "    </tr>\n",
       "    <tr>\n",
       "      <th>1</th>\n",
       "      <td>4.0</td>\n",
       "      <td>48.0</td>\n",
       "      <td>0.0</td>\n",
       "      <td>11.0</td>\n",
       "      <td>0.0</td>\n",
       "      <td>0.0</td>\n",
       "      <td>0.0</td>\n",
       "      <td>9.0</td>\n",
       "      <td>0.0</td>\n",
       "      <td>0.0</td>\n",
       "      <td>...</td>\n",
       "      <td>0.0</td>\n",
       "      <td>0.0</td>\n",
       "      <td>0.0</td>\n",
       "      <td>0.0</td>\n",
       "      <td>1.0</td>\n",
       "      <td>0.0</td>\n",
       "      <td>0.0</td>\n",
       "      <td>1.0</td>\n",
       "      <td>0.0</td>\n",
       "      <td>0</td>\n",
       "    </tr>\n",
       "    <tr>\n",
       "      <th>2</th>\n",
       "      <td>2.0</td>\n",
       "      <td>28.0</td>\n",
       "      <td>0.0</td>\n",
       "      <td>15.0</td>\n",
       "      <td>0.0</td>\n",
       "      <td>3.0</td>\n",
       "      <td>4.0</td>\n",
       "      <td>9.0</td>\n",
       "      <td>0.0</td>\n",
       "      <td>1.0</td>\n",
       "      <td>...</td>\n",
       "      <td>0.0</td>\n",
       "      <td>0.0</td>\n",
       "      <td>0.0</td>\n",
       "      <td>1.0</td>\n",
       "      <td>0.0</td>\n",
       "      <td>0.0</td>\n",
       "      <td>0.0</td>\n",
       "      <td>1.0</td>\n",
       "      <td>0.0</td>\n",
       "      <td>1</td>\n",
       "    </tr>\n",
       "    <tr>\n",
       "      <th>3</th>\n",
       "      <td>4.0</td>\n",
       "      <td>44.0</td>\n",
       "      <td>0.0</td>\n",
       "      <td>10.0</td>\n",
       "      <td>0.0</td>\n",
       "      <td>0.0</td>\n",
       "      <td>0.0</td>\n",
       "      <td>7.0</td>\n",
       "      <td>0.0</td>\n",
       "      <td>1.0</td>\n",
       "      <td>...</td>\n",
       "      <td>0.0</td>\n",
       "      <td>0.0</td>\n",
       "      <td>0.0</td>\n",
       "      <td>1.0</td>\n",
       "      <td>0.0</td>\n",
       "      <td>0.0</td>\n",
       "      <td>0.0</td>\n",
       "      <td>1.0</td>\n",
       "      <td>0.0</td>\n",
       "      <td>0</td>\n",
       "    </tr>\n",
       "    <tr>\n",
       "      <th>4</th>\n",
       "      <td>3.0</td>\n",
       "      <td>54.0</td>\n",
       "      <td>0.0</td>\n",
       "      <td>8.0</td>\n",
       "      <td>0.0</td>\n",
       "      <td>0.0</td>\n",
       "      <td>0.0</td>\n",
       "      <td>8.0</td>\n",
       "      <td>1.0</td>\n",
       "      <td>1.0</td>\n",
       "      <td>...</td>\n",
       "      <td>0.0</td>\n",
       "      <td>0.0</td>\n",
       "      <td>0.0</td>\n",
       "      <td>1.0</td>\n",
       "      <td>0.0</td>\n",
       "      <td>0.0</td>\n",
       "      <td>0.0</td>\n",
       "      <td>1.0</td>\n",
       "      <td>0.0</td>\n",
       "      <td>0</td>\n",
       "    </tr>\n",
       "  </tbody>\n",
       "</table>\n",
       "<p>5 rows × 151 columns</p>\n",
       "</div>"
      ],
      "text/plain": [
       "   time_in_hospital  num_lab_procedures  num_procedures  num_medications  \\\n",
       "0               2.0                38.0             3.0             27.0   \n",
       "1               4.0                48.0             0.0             11.0   \n",
       "2               2.0                28.0             0.0             15.0   \n",
       "3               4.0                44.0             0.0             10.0   \n",
       "4               3.0                54.0             0.0              8.0   \n",
       "\n",
       "   number_outpatient  number_emergency  number_inpatient  number_diagnoses  \\\n",
       "0                0.0               1.0               2.0               7.0   \n",
       "1                0.0               0.0               0.0               9.0   \n",
       "2                0.0               3.0               4.0               9.0   \n",
       "3                0.0               0.0               0.0               7.0   \n",
       "4                0.0               0.0               0.0               8.0   \n",
       "\n",
       "   change  diabetesMed  ...  glyburide-metformin:Up  A1Cresult:>7  \\\n",
       "0     1.0          1.0  ...                     0.0           0.0   \n",
       "1     0.0          0.0  ...                     0.0           0.0   \n",
       "2     0.0          1.0  ...                     0.0           0.0   \n",
       "3     0.0          1.0  ...                     0.0           0.0   \n",
       "4     1.0          1.0  ...                     0.0           0.0   \n",
       "\n",
       "   A1Cresult:>8  A1Cresult:None  A1Cresult:Norm  max_glu_serum:>200  \\\n",
       "0           0.0             1.0             0.0                 0.0   \n",
       "1           0.0             0.0             1.0                 0.0   \n",
       "2           0.0             1.0             0.0                 0.0   \n",
       "3           0.0             1.0             0.0                 0.0   \n",
       "4           0.0             1.0             0.0                 0.0   \n",
       "\n",
       "   max_glu_serum:>300  max_glu_serum:None  max_glu_serum:Norm  readmitted  \n",
       "0                 0.0                 1.0                 0.0           0  \n",
       "1                 0.0                 1.0                 0.0           0  \n",
       "2                 0.0                 1.0                 0.0           1  \n",
       "3                 0.0                 1.0                 0.0           0  \n",
       "4                 0.0                 1.0                 0.0           0  \n",
       "\n",
       "[5 rows x 151 columns]"
      ]
     },
     "execution_count": 2,
     "metadata": {},
     "output_type": "execute_result"
    }
   ],
   "source": [
    "dataset = load_dataset(\"imodels/diabetes-readmission\", split='train')\n",
    "df = dataset.to_pandas()\n",
    "df.head(5)"
   ]
  },
  {
   "cell_type": "code",
   "execution_count": 3,
   "id": "ea60720f-2657-4303-8591-c5c5a1b61905",
   "metadata": {},
   "outputs": [
    {
     "name": "stdout",
     "output_type": "stream",
     "text": [
      "(81410, 150)\n",
      "(81410,)\n"
     ]
    }
   ],
   "source": [
    "X = np.array(df.iloc[:,:-1])\n",
    "y = np.array(df.iloc[:,-1])\n",
    "print(X.shape)\n",
    "print(y.shape)"
   ]
  },
  {
   "cell_type": "code",
   "execution_count": 4,
   "id": "a1f96a7f-274f-4acd-81e5-b9ea149a5449",
   "metadata": {},
   "outputs": [
    {
     "name": "stdout",
     "output_type": "stream",
     "text": [
      "Accuracy: 0.486795234000737\n"
     ]
    }
   ],
   "source": [
    "centroids, assignments = kmeans_plusplus(X, 2)\n",
    "print(\"Accuracy:\", np.sum(assignments == y)/len(y))"
   ]
  },
  {
   "cell_type": "markdown",
   "id": "89a90b0d-79e1-4ffb-9a22-a39534aaa009",
   "metadata": {},
   "source": [
    "### Sklearn"
   ]
  },
  {
   "cell_type": "code",
   "execution_count": 5,
   "id": "d8fec913-0738-485b-b952-5ac6fa1df354",
   "metadata": {},
   "outputs": [
    {
     "name": "stdout",
     "output_type": "stream",
     "text": [
      "Accuracy: 0.48680751750399215\n"
     ]
    }
   ],
   "source": [
    "kmeans = KMeans(n_clusters=2, init='k-means++', n_init=10, max_iter=300, random_state=42)\n",
    "\n",
    "# Fit the model\n",
    "kmeans.fit(X)\n",
    "\n",
    "# Centroids\n",
    "centroids = kmeans.cluster_centers_\n",
    "\n",
    "# Cluster labels for each point\n",
    "labels = kmeans.labels_\n",
    "print(\"Accuracy:\", np.sum(labels == y)/len(y))"
   ]
  },
  {
   "cell_type": "code",
   "execution_count": null,
   "id": "29233d3b-ff75-486a-8f22-68e6a3a6b716",
   "metadata": {},
   "outputs": [],
   "source": []
  }
 ],
 "metadata": {
  "kernelspec": {
   "display_name": "Python 3 (ipykernel)",
   "language": "python",
   "name": "python3"
  },
  "language_info": {
   "codemirror_mode": {
    "name": "ipython",
    "version": 3
   },
   "file_extension": ".py",
   "mimetype": "text/x-python",
   "name": "python",
   "nbconvert_exporter": "python",
   "pygments_lexer": "ipython3",
   "version": "3.10.13"
  }
 },
 "nbformat": 4,
 "nbformat_minor": 5
}
