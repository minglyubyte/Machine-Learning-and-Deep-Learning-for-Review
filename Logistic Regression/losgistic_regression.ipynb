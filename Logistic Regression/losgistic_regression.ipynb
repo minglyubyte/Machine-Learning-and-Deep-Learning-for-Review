{
 "cells": [
  {
   "cell_type": "markdown",
   "id": "92ee0bb9-1773-4f3c-8686-ff801cc32a69",
   "metadata": {},
   "source": [
    "# Logistic Regression"
   ]
  },
  {
   "cell_type": "markdown",
   "id": "f61ac77b-c83a-4a20-9a64-644051ddd91a",
   "metadata": {},
   "source": [
    "## Definition"
   ]
  },
  {
   "cell_type": "markdown",
   "id": "0e984de6-6370-40bf-8d51-71e1b423a7fe",
   "metadata": {},
   "source": [
    "Logistic regression is a statistical model and a type of regression analysis used for **binary classification tasks**, where the goal is to predict a binary outcome (usually denoted as 0 or 1, Yes or No, True or False, etc.) based on one or more independent variables (features or predictors). "
   ]
  },
  {
   "cell_type": "markdown",
   "id": "69255629-4e5d-4c36-a325-369ad13f867e",
   "metadata": {},
   "source": [
    "$$\n",
    "P(Y = 1|X) = \\frac{1}{1 + e^{-(\\beta_0 + \\beta_1X_1 + \\beta_2X_2 + \\ldots + \\beta_pX_p)}}\n",
    "$$\n",
    "\n",
    "In this formula:\n",
    "\n",
    "- $(P(Y = 1|X))$represents the probability of the binary outcome $Y$ being equal to 1 given the values of the independent variables $X$.\n",
    "- $\\beta$ is the intercept or bias term.\n",
    "- $\\beta_1$, $\\beta_2$, $\\ldots$, $\\beta_p$ are the coefficients associated with the independent variables $X_1$, $X_2$, $\\ldots$, $X_p$.\n",
    "\n",
    "This formula calculates the probability that the binary outcome is 1 based on a linear combination of the independent variables, transformed using the **sigmoid (logistic) function** to ensure that the predicted probability is between 0 and 1. The values of the coefficients $\\beta$ are estimated from the training data using maximum likelihood estimation.\n",
    "\n",
    "The sigmoid activation function is the following:\n",
    "$$\n",
    "\\sigma(x) = \\frac{1}{1 + e^{-x}}\n",
    "$$\n",
    "\n",
    "In this formula:\n",
    "\n",
    "- $\\sigma(x)$ represents the sigmoid function.\n",
    "- $x$ is the input to the sigmoid function.\n",
    "- $e$ is the base of the natural logarithm (approximately equal to 2.71828)."
   ]
  },
  {
   "cell_type": "markdown",
   "id": "b8994339-85f8-4b93-a629-c2cb87c959ff",
   "metadata": {},
   "source": [
    "## Assumptions"
   ]
  },
  {
   "cell_type": "markdown",
   "id": "a7d92d69-6c90-436b-9198-5bb40689bd6b",
   "metadata": {},
   "source": [
    "1. **Linearity of the Log-Odds:**\n",
    "   - Logistic regression assumes that the log-odds of the binary outcome is a linear combination of the predictor variables. The relationship between independent variables and log-odds should be linear.\n",
    "\n",
    "2. **Independence of Observations:**\n",
    "   - Observations should be independent of each other. This means that the values of the binary outcome for one observation should not be influenced by the values of the binary outcome for other observations. \n",
    "\n",
    "3. **No or Little Multicollinearity:**\n",
    "   - Multicollinearity, where predictor variables are highly correlated, should be avoided. High multicollinearity can lead to unstable coefficient estimates.\n",
    "\n",
    "4. **Large Sample Size:**\n",
    "   - A sufficiently large sample size is important for reliable parameter estimation and hypothesis testing. A guideline is to have at least 10-20 observations per predictor variable.\n",
    "\n",
    "5. **Binary or Ordinal Dependent Variable:**\n",
    "   - Logistic regression is designed for binary or ordinal (ordered categorical) dependent variables. If your dependent variable is continuous or nominal, consider other modeling techniques.\n",
    "\n",
    "7. **No Perfect Separation:**\n",
    "   - Perfect separation, where one or more independent variables perfectly predict the outcome, should be avoided. In such cases, the maximum likelihood estimates may not converge."
   ]
  },
  {
   "cell_type": "markdown",
   "id": "c15c791c-dfb7-45de-b6ec-595b314c8e49",
   "metadata": {},
   "source": [
    "## Algorithm"
   ]
  },
  {
   "cell_type": "markdown",
   "id": "b705aa21-d612-4afe-9b15-61028b404c58",
   "metadata": {},
   "source": [
    "Deriving the optimal solution for logistic regression involves finding the parameter values that best fit the data. This is typically done using a method called Maximum Likelihood Estimation (MLE).\n",
    "\n",
    "Logistic Regression Model\n",
    "$$\n",
    "   P(y=1|x) = \\frac{1}{1 + e^{-\\theta^T x}}\n",
    "$$\n",
    "\n",
    "Likelihood Function. The likelihood function measures how likely the observed data is, given the parameters of the model. For logistic regression, the likelihood $L$is the product of probabilities assigned to all individual observations:\n",
    "$$\n",
    "   \\ell(\\theta) = \\prod_{i=1}^{n} P(y_i|x_i)^{y_i} (1 - P(y_i|x_i))^{(1 - y_i)}\n",
    "$$\n",
    "\n",
    "Log-Likelihood. It's easier to maximize the log of the likelihood function, as it turns the product into a sum, simplifying the computation. The log-likelihood $\\ell(\\theta)$ is given by:\n",
    "$$\\ell(\\theta) = \\sum_{i=1}^{n} \\ln(P(y_i|x_i)^{y_i}(1 - P(y_i|x_i)^{(1 - y_i)})$$\n",
    "$$\\ell(\\theta) = \\sum_{i=1}^{n} y_i \\ln(P(y_i|x_i)) + (1 - y_i) \\ln(1 - P(y_i|x_i))$$\n",
    "$$\\ell(\\theta) = \\sum_{i=1}^{n} y_i \\ln(\\frac{1}{1 + e^{-\\theta x_i}}) + (1 - y_i) \\ln(1 - \\frac{1}{1 + e^{-\\theta x_i}})$$\n",
    "$$\\ell(\\theta) = \\sum_{i=1}^{n} y_i[\\ln(\\frac{1}{1+e^{-\\theta x_i}}) - \\ln(\\frac{e^{-\\theta x_i}}{1+e^{-\\theta x_i}})] + \\ln(\\frac{e^{-\\theta x_i}}{1+e^{-\\theta x_i}})$$\n",
    "$$\\ell(\\theta) = \\sum_{i=1}^{n} y_i\\ln(e^{\\theta x_i}) + \\ln(\\frac{1}{1+e^{\\theta x_i}})$$\n",
    "$$\\ell(\\theta) = \\sum_{i=1}^{n} y_i\\theta x_i - \\ln(1+e^{\\theta x_i})$$\n",
    "\n",
    "Get gradient of log-likehood\n",
    "$$\\nabla_\\theta \\ell(\\theta) = \\sum_{i=1}^{n} y_i x_i - \\frac{1}{1+e^{\\theta x_i}}*e^{\\theta x_i}*x_i$$\n",
    "$$\\nabla_\\theta \\ell(\\theta) = \\sum_{i=1}^{n} (y_i - P(y_i|x_i))x_i$$\n",
    "\n",
    "Gradient Ascent. To find the parameters $\\theta$ that maximize the log-likelihood, we use gradient ascent (the counterpart of gradient descent used in minimization problems).\n",
    "$$\n",
    "   \\theta := \\theta + \\alpha \\nabla_\\theta \\ell(\\theta)\n",
    "$$\n",
    "\n",
    "Convergence Criteria. This iterative process continues until convergence, which can be determined by a small change in the value of the log-likelihood between iterations, or until a maximum number of iterations is reached."
   ]
  },
  {
   "cell_type": "markdown",
   "id": "0c0e7303-897e-4f54-a842-95ca564b5c30",
   "metadata": {},
   "source": [
    "## Code"
   ]
  },
  {
   "cell_type": "markdown",
   "id": "d97532bb-e291-418e-8c31-3f502251257c",
   "metadata": {},
   "source": [
    "### Numpy Version"
   ]
  },
  {
   "cell_type": "code",
   "execution_count": 1,
   "id": "d641fc71-17f9-47c5-af4c-9c54ecbf1f41",
   "metadata": {},
   "outputs": [],
   "source": [
    "import warnings\n",
    "warnings.filterwarnings('ignore')\n",
    "from datasets import load_dataset\n",
    "import numpy as np\n",
    "import pandas as pd\n",
    "import sklearn\n",
    "from logistic_regression_numpy import *"
   ]
  },
  {
   "cell_type": "code",
   "execution_count": 2,
   "id": "8d659875-2a43-4c14-8feb-ba55fc651767",
   "metadata": {},
   "outputs": [
    {
     "data": {
      "text/html": [
       "<div>\n",
       "<style scoped>\n",
       "    .dataframe tbody tr th:only-of-type {\n",
       "        vertical-align: middle;\n",
       "    }\n",
       "\n",
       "    .dataframe tbody tr th {\n",
       "        vertical-align: top;\n",
       "    }\n",
       "\n",
       "    .dataframe thead th {\n",
       "        text-align: right;\n",
       "    }\n",
       "</style>\n",
       "<table border=\"1\" class=\"dataframe\">\n",
       "  <thead>\n",
       "    <tr style=\"text-align: right;\">\n",
       "      <th></th>\n",
       "      <th>time_in_hospital</th>\n",
       "      <th>num_lab_procedures</th>\n",
       "      <th>num_procedures</th>\n",
       "      <th>num_medications</th>\n",
       "      <th>number_outpatient</th>\n",
       "      <th>number_emergency</th>\n",
       "      <th>number_inpatient</th>\n",
       "      <th>number_diagnoses</th>\n",
       "      <th>change</th>\n",
       "      <th>diabetesMed</th>\n",
       "      <th>...</th>\n",
       "      <th>glyburide-metformin:Up</th>\n",
       "      <th>A1Cresult:&gt;7</th>\n",
       "      <th>A1Cresult:&gt;8</th>\n",
       "      <th>A1Cresult:None</th>\n",
       "      <th>A1Cresult:Norm</th>\n",
       "      <th>max_glu_serum:&gt;200</th>\n",
       "      <th>max_glu_serum:&gt;300</th>\n",
       "      <th>max_glu_serum:None</th>\n",
       "      <th>max_glu_serum:Norm</th>\n",
       "      <th>readmitted</th>\n",
       "    </tr>\n",
       "  </thead>\n",
       "  <tbody>\n",
       "    <tr>\n",
       "      <th>0</th>\n",
       "      <td>2.0</td>\n",
       "      <td>38.0</td>\n",
       "      <td>3.0</td>\n",
       "      <td>27.0</td>\n",
       "      <td>0.0</td>\n",
       "      <td>1.0</td>\n",
       "      <td>2.0</td>\n",
       "      <td>7.0</td>\n",
       "      <td>1.0</td>\n",
       "      <td>1.0</td>\n",
       "      <td>...</td>\n",
       "      <td>0.0</td>\n",
       "      <td>0.0</td>\n",
       "      <td>0.0</td>\n",
       "      <td>1.0</td>\n",
       "      <td>0.0</td>\n",
       "      <td>0.0</td>\n",
       "      <td>0.0</td>\n",
       "      <td>1.0</td>\n",
       "      <td>0.0</td>\n",
       "      <td>0</td>\n",
       "    </tr>\n",
       "    <tr>\n",
       "      <th>1</th>\n",
       "      <td>4.0</td>\n",
       "      <td>48.0</td>\n",
       "      <td>0.0</td>\n",
       "      <td>11.0</td>\n",
       "      <td>0.0</td>\n",
       "      <td>0.0</td>\n",
       "      <td>0.0</td>\n",
       "      <td>9.0</td>\n",
       "      <td>0.0</td>\n",
       "      <td>0.0</td>\n",
       "      <td>...</td>\n",
       "      <td>0.0</td>\n",
       "      <td>0.0</td>\n",
       "      <td>0.0</td>\n",
       "      <td>0.0</td>\n",
       "      <td>1.0</td>\n",
       "      <td>0.0</td>\n",
       "      <td>0.0</td>\n",
       "      <td>1.0</td>\n",
       "      <td>0.0</td>\n",
       "      <td>0</td>\n",
       "    </tr>\n",
       "    <tr>\n",
       "      <th>2</th>\n",
       "      <td>2.0</td>\n",
       "      <td>28.0</td>\n",
       "      <td>0.0</td>\n",
       "      <td>15.0</td>\n",
       "      <td>0.0</td>\n",
       "      <td>3.0</td>\n",
       "      <td>4.0</td>\n",
       "      <td>9.0</td>\n",
       "      <td>0.0</td>\n",
       "      <td>1.0</td>\n",
       "      <td>...</td>\n",
       "      <td>0.0</td>\n",
       "      <td>0.0</td>\n",
       "      <td>0.0</td>\n",
       "      <td>1.0</td>\n",
       "      <td>0.0</td>\n",
       "      <td>0.0</td>\n",
       "      <td>0.0</td>\n",
       "      <td>1.0</td>\n",
       "      <td>0.0</td>\n",
       "      <td>1</td>\n",
       "    </tr>\n",
       "    <tr>\n",
       "      <th>3</th>\n",
       "      <td>4.0</td>\n",
       "      <td>44.0</td>\n",
       "      <td>0.0</td>\n",
       "      <td>10.0</td>\n",
       "      <td>0.0</td>\n",
       "      <td>0.0</td>\n",
       "      <td>0.0</td>\n",
       "      <td>7.0</td>\n",
       "      <td>0.0</td>\n",
       "      <td>1.0</td>\n",
       "      <td>...</td>\n",
       "      <td>0.0</td>\n",
       "      <td>0.0</td>\n",
       "      <td>0.0</td>\n",
       "      <td>1.0</td>\n",
       "      <td>0.0</td>\n",
       "      <td>0.0</td>\n",
       "      <td>0.0</td>\n",
       "      <td>1.0</td>\n",
       "      <td>0.0</td>\n",
       "      <td>0</td>\n",
       "    </tr>\n",
       "    <tr>\n",
       "      <th>4</th>\n",
       "      <td>3.0</td>\n",
       "      <td>54.0</td>\n",
       "      <td>0.0</td>\n",
       "      <td>8.0</td>\n",
       "      <td>0.0</td>\n",
       "      <td>0.0</td>\n",
       "      <td>0.0</td>\n",
       "      <td>8.0</td>\n",
       "      <td>1.0</td>\n",
       "      <td>1.0</td>\n",
       "      <td>...</td>\n",
       "      <td>0.0</td>\n",
       "      <td>0.0</td>\n",
       "      <td>0.0</td>\n",
       "      <td>1.0</td>\n",
       "      <td>0.0</td>\n",
       "      <td>0.0</td>\n",
       "      <td>0.0</td>\n",
       "      <td>1.0</td>\n",
       "      <td>0.0</td>\n",
       "      <td>0</td>\n",
       "    </tr>\n",
       "  </tbody>\n",
       "</table>\n",
       "<p>5 rows × 151 columns</p>\n",
       "</div>"
      ],
      "text/plain": [
       "   time_in_hospital  num_lab_procedures  num_procedures  num_medications  \\\n",
       "0               2.0                38.0             3.0             27.0   \n",
       "1               4.0                48.0             0.0             11.0   \n",
       "2               2.0                28.0             0.0             15.0   \n",
       "3               4.0                44.0             0.0             10.0   \n",
       "4               3.0                54.0             0.0              8.0   \n",
       "\n",
       "   number_outpatient  number_emergency  number_inpatient  number_diagnoses  \\\n",
       "0                0.0               1.0               2.0               7.0   \n",
       "1                0.0               0.0               0.0               9.0   \n",
       "2                0.0               3.0               4.0               9.0   \n",
       "3                0.0               0.0               0.0               7.0   \n",
       "4                0.0               0.0               0.0               8.0   \n",
       "\n",
       "   change  diabetesMed  ...  glyburide-metformin:Up  A1Cresult:>7  \\\n",
       "0     1.0          1.0  ...                     0.0           0.0   \n",
       "1     0.0          0.0  ...                     0.0           0.0   \n",
       "2     0.0          1.0  ...                     0.0           0.0   \n",
       "3     0.0          1.0  ...                     0.0           0.0   \n",
       "4     1.0          1.0  ...                     0.0           0.0   \n",
       "\n",
       "   A1Cresult:>8  A1Cresult:None  A1Cresult:Norm  max_glu_serum:>200  \\\n",
       "0           0.0             1.0             0.0                 0.0   \n",
       "1           0.0             0.0             1.0                 0.0   \n",
       "2           0.0             1.0             0.0                 0.0   \n",
       "3           0.0             1.0             0.0                 0.0   \n",
       "4           0.0             1.0             0.0                 0.0   \n",
       "\n",
       "   max_glu_serum:>300  max_glu_serum:None  max_glu_serum:Norm  readmitted  \n",
       "0                 0.0                 1.0                 0.0           0  \n",
       "1                 0.0                 1.0                 0.0           0  \n",
       "2                 0.0                 1.0                 0.0           1  \n",
       "3                 0.0                 1.0                 0.0           0  \n",
       "4                 0.0                 1.0                 0.0           0  \n",
       "\n",
       "[5 rows x 151 columns]"
      ]
     },
     "execution_count": 2,
     "metadata": {},
     "output_type": "execute_result"
    }
   ],
   "source": [
    "dataset = load_dataset(\"imodels/diabetes-readmission\", split='train')\n",
    "df = dataset.to_pandas()\n",
    "df.head(5)"
   ]
  },
  {
   "cell_type": "code",
   "execution_count": 3,
   "id": "9808d66c-9da1-4688-bb4c-5dac61e8cf76",
   "metadata": {},
   "outputs": [
    {
     "name": "stdout",
     "output_type": "stream",
     "text": [
      "(81410, 150)\n",
      "(81410,)\n"
     ]
    }
   ],
   "source": [
    "X = np.array(df.iloc[:,:-1])\n",
    "y = np.array(df.iloc[:,-1])\n",
    "print(X.shape)\n",
    "print(y.shape)"
   ]
  },
  {
   "cell_type": "code",
   "execution_count": 4,
   "id": "7761e37a-ac19-4f1e-885a-3b12bb424a22",
   "metadata": {
    "scrolled": true
   },
   "outputs": [
    {
     "name": "stdout",
     "output_type": "stream",
     "text": [
      "0 0.538570200221103\n",
      "10000 0.6196904557179708\n",
      "20000 0.6223559759243337\n",
      "30000 0.6238914138312247\n",
      "40000 0.6251566146665029\n",
      "50000 0.6258322073455349\n",
      "60000 0.6266429185603735\n",
      "70000 0.6273185112394055\n",
      "80000 0.6269991401547721\n",
      "90000 0.6269008721287311\n"
     ]
    }
   ],
   "source": [
    "theta = model_fit(X,y,0.001,100000)"
   ]
  },
  {
   "cell_type": "code",
   "execution_count": 5,
   "id": "3c5c3ee1-7d7b-4241-932e-6adc626f4e98",
   "metadata": {},
   "outputs": [
    {
     "data": {
      "text/plain": [
       "True"
      ]
     },
     "execution_count": 5,
     "metadata": {},
     "output_type": "execute_result"
    }
   ],
   "source": [
    "intercept = np.ones((X.shape[0], 1))\n",
    "X_numpy = np.concatenate((intercept, X), axis=1)\n",
    "predict(theta, X_numpy[0])"
   ]
  },
  {
   "cell_type": "code",
   "execution_count": 6,
   "id": "d8c34962-523c-442f-9b2c-f4fffdbbf992",
   "metadata": {},
   "outputs": [
    {
     "data": {
      "text/plain": [
       "array([ True, False,  True, False, False])"
      ]
     },
     "execution_count": 6,
     "metadata": {},
     "output_type": "execute_result"
    }
   ],
   "source": [
    "predict(theta, X_numpy[0:5])"
   ]
  },
  {
   "cell_type": "code",
   "execution_count": 7,
   "id": "ca8046e6-540e-4ed8-9a33-de6dfb7d0ae4",
   "metadata": {},
   "outputs": [
    {
     "data": {
      "text/plain": [
       "0.5507216811458091"
      ]
     },
     "execution_count": 7,
     "metadata": {},
     "output_type": "execute_result"
    }
   ],
   "source": [
    "predict_prob(theta, X_numpy[0])"
   ]
  },
  {
   "cell_type": "markdown",
   "id": "fc5ce0a3-aec1-4180-b185-4bb50a957295",
   "metadata": {},
   "source": [
    "### Sklearn Version"
   ]
  },
  {
   "cell_type": "code",
   "execution_count": 8,
   "id": "70b90a31-225a-45a9-8222-121be2c59474",
   "metadata": {},
   "outputs": [],
   "source": [
    "from sklearn.linear_model import LogisticRegression\n",
    "from sklearn.metrics import accuracy_score, classification_report, confusion_matrix"
   ]
  },
  {
   "cell_type": "code",
   "execution_count": 9,
   "id": "d5ef6cc7-8104-402c-8056-e8934f83faf4",
   "metadata": {},
   "outputs": [
    {
     "data": {
      "text/html": [
       "<style>#sk-container-id-1 {color: black;}#sk-container-id-1 pre{padding: 0;}#sk-container-id-1 div.sk-toggleable {background-color: white;}#sk-container-id-1 label.sk-toggleable__label {cursor: pointer;display: block;width: 100%;margin-bottom: 0;padding: 0.3em;box-sizing: border-box;text-align: center;}#sk-container-id-1 label.sk-toggleable__label-arrow:before {content: \"▸\";float: left;margin-right: 0.25em;color: #696969;}#sk-container-id-1 label.sk-toggleable__label-arrow:hover:before {color: black;}#sk-container-id-1 div.sk-estimator:hover label.sk-toggleable__label-arrow:before {color: black;}#sk-container-id-1 div.sk-toggleable__content {max-height: 0;max-width: 0;overflow: hidden;text-align: left;background-color: #f0f8ff;}#sk-container-id-1 div.sk-toggleable__content pre {margin: 0.2em;color: black;border-radius: 0.25em;background-color: #f0f8ff;}#sk-container-id-1 input.sk-toggleable__control:checked~div.sk-toggleable__content {max-height: 200px;max-width: 100%;overflow: auto;}#sk-container-id-1 input.sk-toggleable__control:checked~label.sk-toggleable__label-arrow:before {content: \"▾\";}#sk-container-id-1 div.sk-estimator input.sk-toggleable__control:checked~label.sk-toggleable__label {background-color: #d4ebff;}#sk-container-id-1 div.sk-label input.sk-toggleable__control:checked~label.sk-toggleable__label {background-color: #d4ebff;}#sk-container-id-1 input.sk-hidden--visually {border: 0;clip: rect(1px 1px 1px 1px);clip: rect(1px, 1px, 1px, 1px);height: 1px;margin: -1px;overflow: hidden;padding: 0;position: absolute;width: 1px;}#sk-container-id-1 div.sk-estimator {font-family: monospace;background-color: #f0f8ff;border: 1px dotted black;border-radius: 0.25em;box-sizing: border-box;margin-bottom: 0.5em;}#sk-container-id-1 div.sk-estimator:hover {background-color: #d4ebff;}#sk-container-id-1 div.sk-parallel-item::after {content: \"\";width: 100%;border-bottom: 1px solid gray;flex-grow: 1;}#sk-container-id-1 div.sk-label:hover label.sk-toggleable__label {background-color: #d4ebff;}#sk-container-id-1 div.sk-serial::before {content: \"\";position: absolute;border-left: 1px solid gray;box-sizing: border-box;top: 0;bottom: 0;left: 50%;z-index: 0;}#sk-container-id-1 div.sk-serial {display: flex;flex-direction: column;align-items: center;background-color: white;padding-right: 0.2em;padding-left: 0.2em;position: relative;}#sk-container-id-1 div.sk-item {position: relative;z-index: 1;}#sk-container-id-1 div.sk-parallel {display: flex;align-items: stretch;justify-content: center;background-color: white;position: relative;}#sk-container-id-1 div.sk-item::before, #sk-container-id-1 div.sk-parallel-item::before {content: \"\";position: absolute;border-left: 1px solid gray;box-sizing: border-box;top: 0;bottom: 0;left: 50%;z-index: -1;}#sk-container-id-1 div.sk-parallel-item {display: flex;flex-direction: column;z-index: 1;position: relative;background-color: white;}#sk-container-id-1 div.sk-parallel-item:first-child::after {align-self: flex-end;width: 50%;}#sk-container-id-1 div.sk-parallel-item:last-child::after {align-self: flex-start;width: 50%;}#sk-container-id-1 div.sk-parallel-item:only-child::after {width: 0;}#sk-container-id-1 div.sk-dashed-wrapped {border: 1px dashed gray;margin: 0 0.4em 0.5em 0.4em;box-sizing: border-box;padding-bottom: 0.4em;background-color: white;}#sk-container-id-1 div.sk-label label {font-family: monospace;font-weight: bold;display: inline-block;line-height: 1.2em;}#sk-container-id-1 div.sk-label-container {text-align: center;}#sk-container-id-1 div.sk-container {/* jupyter's `normalize.less` sets `[hidden] { display: none; }` but bootstrap.min.css set `[hidden] { display: none !important; }` so we also need the `!important` here to be able to override the default hidden behavior on the sphinx rendered scikit-learn.org. See: https://github.com/scikit-learn/scikit-learn/issues/21755 */display: inline-block !important;position: relative;}#sk-container-id-1 div.sk-text-repr-fallback {display: none;}</style><div id=\"sk-container-id-1\" class=\"sk-top-container\"><div class=\"sk-text-repr-fallback\"><pre>LogisticRegression()</pre><b>In a Jupyter environment, please rerun this cell to show the HTML representation or trust the notebook. <br />On GitHub, the HTML representation is unable to render, please try loading this page with nbviewer.org.</b></div><div class=\"sk-container\" hidden><div class=\"sk-item\"><div class=\"sk-estimator sk-toggleable\"><input class=\"sk-toggleable__control sk-hidden--visually\" id=\"sk-estimator-id-1\" type=\"checkbox\" checked><label for=\"sk-estimator-id-1\" class=\"sk-toggleable__label sk-toggleable__label-arrow\">LogisticRegression</label><div class=\"sk-toggleable__content\"><pre>LogisticRegression()</pre></div></div></div></div></div>"
      ],
      "text/plain": [
       "LogisticRegression()"
      ]
     },
     "execution_count": 9,
     "metadata": {},
     "output_type": "execute_result"
    }
   ],
   "source": [
    "# Create a Logistic Regression model\n",
    "model = LogisticRegression()\n",
    "\n",
    "# Fit the model on the training data\n",
    "model.fit(X, y)"
   ]
  },
  {
   "cell_type": "code",
   "execution_count": 10,
   "id": "91ede0c0-4047-4f45-b3a3-2b73941af53a",
   "metadata": {},
   "outputs": [
    {
     "data": {
      "text/plain": [
       "array([1])"
      ]
     },
     "execution_count": 10,
     "metadata": {},
     "output_type": "execute_result"
    }
   ],
   "source": [
    "model.predict(X[0].reshape(1,-1))"
   ]
  },
  {
   "cell_type": "code",
   "execution_count": 11,
   "id": "6e1afece-785d-4c64-b1bb-4089295054bc",
   "metadata": {},
   "outputs": [
    {
     "data": {
      "text/plain": [
       "array([1, 0])"
      ]
     },
     "execution_count": 11,
     "metadata": {},
     "output_type": "execute_result"
    }
   ],
   "source": [
    "model.predict(X[0:2])"
   ]
  },
  {
   "cell_type": "code",
   "execution_count": 12,
   "id": "1e6760fe-fc9b-4822-a93f-49536905073d",
   "metadata": {},
   "outputs": [],
   "source": [
    "y_pred = model.predict(X)"
   ]
  },
  {
   "cell_type": "code",
   "execution_count": 13,
   "id": "67d0f6e5-0350-4553-885c-9bfb9fb4ed83",
   "metadata": {},
   "outputs": [
    {
     "name": "stdout",
     "output_type": "stream",
     "text": [
      "Accuracy: 0.6273307947426606\n",
      "Confusion Matrix:\n",
      "[[34035  9810]\n",
      " [20529 17036]]\n",
      "Classification Report:\n",
      "              precision    recall  f1-score   support\n",
      "\n",
      "           0       0.62      0.78      0.69     43845\n",
      "           1       0.63      0.45      0.53     37565\n",
      "\n",
      "    accuracy                           0.63     81410\n",
      "   macro avg       0.63      0.61      0.61     81410\n",
      "weighted avg       0.63      0.63      0.62     81410\n",
      "\n"
     ]
    }
   ],
   "source": [
    "# Calculate accuracy\n",
    "accuracy = accuracy_score(y, y_pred)\n",
    "print(f'Accuracy: {accuracy}')\n",
    "\n",
    "# Generate a confusion matrix\n",
    "conf_matrix = confusion_matrix(y, y_pred)\n",
    "print('Confusion Matrix:')\n",
    "print(conf_matrix)\n",
    "\n",
    "# Generate a classification report\n",
    "class_report = classification_report(y, y_pred)\n",
    "print('Classification Report:')\n",
    "print(class_report)"
   ]
  },
  {
   "cell_type": "code",
   "execution_count": null,
   "id": "35696210-13fe-403f-8372-02ec2c08a3e0",
   "metadata": {},
   "outputs": [],
   "source": []
  }
 ],
 "metadata": {
  "kernelspec": {
   "display_name": "Python 3 (ipykernel)",
   "language": "python",
   "name": "python3"
  },
  "language_info": {
   "codemirror_mode": {
    "name": "ipython",
    "version": 3
   },
   "file_extension": ".py",
   "mimetype": "text/x-python",
   "name": "python",
   "nbconvert_exporter": "python",
   "pygments_lexer": "ipython3",
   "version": "3.10.13"
  }
 },
 "nbformat": 4,
 "nbformat_minor": 5
}
