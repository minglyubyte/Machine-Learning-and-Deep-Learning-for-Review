{
 "cells": [
  {
   "cell_type": "markdown",
   "id": "e440d75d-e0b0-4d44-b988-ea4e996d7e5d",
   "metadata": {},
   "source": [
    "# Linear Regression"
   ]
  },
  {
   "cell_type": "markdown",
   "id": "3ea5c339-9c48-4a56-8dde-5ef024a49de4",
   "metadata": {},
   "source": [
    "## Definition"
   ]
  },
  {
   "cell_type": "markdown",
   "id": "4b4d969e-477d-431a-8962-04774c9b74dd",
   "metadata": {},
   "source": [
    "Linear regression is a statistical method used in machine learning and statistics to model the relationship between a dependent variable and one or more independent variables by fitting a linear equation to the observed data. "
   ]
  },
  {
   "cell_type": "markdown",
   "id": "4d085b78-3f6d-4c1b-b5c7-aea3d04331ee",
   "metadata": {},
   "source": [
    "$$Y = β₀ + β₁X + ε$$\n",
    "\n",
    "Where:\n",
    "- **Y** is the dependent variable (the one you want to predict).\n",
    "- **X** is the independent variable (the one used for prediction).\n",
    "- **β₀** is the intercept (the value of Y when X is 0).\n",
    "- **β₁** is the slope (the change in Y for a one-unit change in X).\n",
    "- **ε** represents the error term\n",
    "\n",
    "Linear regression can be extended to multiple independent variables, creating multiple linear regression, where the equation becomes:"
   ]
  },
  {
   "cell_type": "markdown",
   "id": "1db4b27b-e7a8-4158-a913-51e39fa9ae94",
   "metadata": {},
   "source": [
    "$$Y = a + b_1X_1 + b_2X_2 + ... + b_nX_n$$\n",
    "In this case, there are **n** independent variables, and each has its own coefficient **b** that represents its contribution to the prediction of the dependent variable **Y**."
   ]
  },
  {
   "cell_type": "markdown",
   "id": "b384b5fb-ed2e-4739-97db-513cd3a1f8ca",
   "metadata": {},
   "source": [
    "## Assumptions"
   ]
  },
  {
   "cell_type": "markdown",
   "id": "79c7e07d-99b3-4986-9635-80b943fdf5bd",
   "metadata": {},
   "source": [
    "Linear regression relies on several fundamental assumptions to be valid and produce reliable results. These assumptions are crucial for the proper interpretation of regression analyses:\n",
    "\n",
    "1. **Linearity**: The relationship between the dependent variable (**Y**) and the independent variables (**X<sub>1</sub>**, **X<sub>2</sub>**, ..., **X<sub>n</sub>**) should be linear. This means that changes in the independent variables should result in proportional changes in the dependent variable. You can assess linearity through scatterplots and residual plots.\n",
    "\n",
    "2. **Independence of Errors**: The errors (residuals) from the regression model should be independent of each other. In other words, the value of the residual for one observation should not depend on the values of residuals for other observations. Autocorrelation or time-series data can violate this assumption.\n",
    "\n",
    "3. **Homoscedasticity**: The variance of the residuals should be constant across all levels of the independent variables. This implies that the spread of residuals should not change as you move along the predictor values. Heteroscedasticity, where the spread of residuals varies, can lead to biased standard errors and affect the validity of hypothesis tests.\n",
    "\n",
    "4. **Normality of Residuals**: The residuals should follow a normal distribution. While this assumption is not necessary for large sample sizes due to the Central Limit Theorem, it is important for small sample sizes. Deviations from normality can affect the accuracy of confidence intervals and p-values."
   ]
  },
  {
   "cell_type": "markdown",
   "id": "2e322d6d-9b90-43bc-9cc0-d812afed1804",
   "metadata": {},
   "source": [
    "## Algorithm"
   ]
  },
  {
   "cell_type": "markdown",
   "id": "ef168fba-3907-48cb-9e59-1b159e1ade0b",
   "metadata": {},
   "source": [
    "### Ordinary Least Squares (OLS) in Linear Regression\n",
    "\n",
    "In linear regression, Ordinary Least Squares (OLS) is a widely-used method to estimate the parameters of a linear model. The primary goal of OLS is to find the best-fitting line through a set of data points by minimizing the sum of squared differences between observed values and predicted values.\n",
    "\n",
    "OLS aims to find the values of **β₀** and **β₁** that minimize the sum of squared residuals (SSR), given by:\n",
    "\n",
    "$$SSR = \\sum_{i=1}^{n} (Y_i - (\\beta_0 + \\beta_1 X_i))^2$$\n",
    "\n",
    "In this equation:\n",
    "- **Y<sub>i</sub>** is the observed value of the dependent variable for the i-th data point.\n",
    "- **X<sub>i</sub>** is the corresponding value of the independent variable.\n",
    "- **n** is the number of data points.\n",
    "\n",
    "We seek to find solution to minimize the SSR."
   ]
  },
  {
   "cell_type": "markdown",
   "id": "79319429-4d1a-4d73-b387-d602aab6fd30",
   "metadata": {},
   "source": [
    "$$Y = X\\beta + \\varepsilon $$\n",
    "\n",
    "\n",
    "The goal is to estimate the coefficients **β** that minimize the sum of squared residuals:\n",
    "\n",
    "$$SSR = \\varepsilon^T \\varepsilon = (Y - X\\beta)^T (Y - X\\beta)$$\n",
    "\n",
    "To find the OLS solution, we take the derivative of SSR with respect to **β** and set it equal to zero:\n",
    "\n",
    "$$ \\frac{\\partial SSR}{\\partial \\beta} = -2X^T(Y - X\\beta) = 0$$\n",
    "\n",
    "Solving for **β** gives the OLS estimator:\n",
    "\n",
    "$$\\beta = (X^TX)^{-1}X^TY$$\n",
    "\n",
    "We had the answer for optimal solution of Linear regression using OLS."
   ]
  },
  {
   "cell_type": "markdown",
   "id": "b4276ac5-729a-4d6c-869e-4c219cc88280",
   "metadata": {},
   "source": [
    "### With Regularization\n",
    "\n",
    "Regularized linear regression refers to a group of linear regression models that include a regularization term in their cost function to prevent overfitting and handle issues like multicollinearity. This regularization term penalizes the magnitude of the coefficients, thereby constraining them. The cost function for Ridge Regression is given by:\n",
    "\n",
    "$$ J(\\beta) = ||Y - X\\beta||^2_2 + \\lambda ||\\beta||^2_2 $$\n",
    "\n",
    "where:\n",
    "- **Y** is the vector of observed values.\n",
    "- **X** is the matrix of feature values.\n",
    "- **β** is the vector of coefficients.\n",
    "- **λ** is the regularization parameter."
   ]
  },
  {
   "cell_type": "markdown",
   "id": "27ff3532-4d42-4995-ba49-e1c0dbbdbfc6",
   "metadata": {},
   "source": [
    "Expand the Cost Function\n",
    "   \n",
    "   $$ J(\\beta) = (Y - X\\beta)^T(Y - X\\beta) + \\lambda \\beta^T\\beta $$\n",
    "\n",
    "Take the Gradient and the gradient of J(**β**) with respect to **β** is:\n",
    "\n",
    "   $$ \\nabla_\\beta J(\\beta) = -2X^T(Y - X\\beta) + 2\\lambda\\beta $$\n",
    "\n",
    "To find the minimum, set the gradient to zero:\n",
    "\n",
    "   $$ -2X^T(Y - X\\beta) + 2\\lambda\\beta = 0 $$\n",
    "\n",
    "Solve for β and rearranging the terms:\n",
    "\n",
    "   $$ X^T(Y - X\\beta) = \\lambda\\beta $$\n",
    "\n",
    "   $$ X^TY - X^TX\\beta = \\lambda\\beta $$\n",
    "\n",
    "   $$ X^TY = (X^TX + \\lambda I)\\beta $$\n",
    "\n",
    "Finally:\n",
    "\n",
    "   $$\\beta = (X^TX + \\lambda I)^{-1}X^TY $$\n",
    "\n",
    "   where **I** is the identity matrix of appropriate size."
   ]
  },
  {
   "cell_type": "markdown",
   "id": "50b2b577-78cd-41f9-bf95-8e082aafdc0b",
   "metadata": {},
   "source": [
    "Unlike Ridge regression, Lasso **does not have a closed-form solution due to the absolute value in the regularization term**. The optimization problem involves an absolute value, which makes the derivative not well-defined at all points. The lack of a closed-form solution for Lasso makes it computationally more intensive than Ridge, especially as the number of features grows. However, its ability to **shrink some coefficients to zero**, thereby performing feature selection, can be very beneficial in models with a large number of features."
   ]
  },
  {
   "cell_type": "markdown",
   "id": "ab7c5627-885f-428e-a3ac-6593d56af4cc",
   "metadata": {},
   "source": [
    "## Pros, Cons and Use cases"
   ]
  },
  {
   "cell_type": "markdown",
   "id": "f7dc97d3-c1fd-48e6-9d19-eddbdeca4938",
   "metadata": {},
   "source": [
    "### Pros of Linear Regression\n",
    "\n",
    "1. **Simplicity**: Linear regression is straightforward to understand and explain, making it a good starting point for predictive modeling.\n",
    "2. **Efficient Computation**: It requires relatively less computational resources compared to more complex algorithms.\n",
    "3. **Interpretable Results**: The output of a linear regression model can be easily interpreted in terms of relationship strength and direction between variables.\n",
    "4. **Basis for Other Methods**: Serves as a foundation for understanding more complex models in machine learning.\n",
    "5. **Less Prone to Overfitting**: With fewer variables, linear regression models are less likely to fit noise in the data.\n",
    "<br>\n",
    "<br>\n",
    "<br>\n",
    "\n",
    "### Cons of Linear Regression\n",
    "\n",
    "1. **Assumption of Linearity**: Linear regression assumes a linear relationship between the dependent and independent variables, which is not always the case in real-world data.\n",
    "2. **Sensitive to Outliers**: Outliers can significantly affect the regression line and hence the forecasted values.\n",
    "3. **Multicollinearity**: The presence of high correlation between independent variables can distort the estimated coefficients and make them unreliable.\n",
    "4. **Limited to Continuous Variables**: Linear regression is typically used for continuous numerical data, limiting its use with categorical data.\n",
    "5. **Can’t Model Complex Relationships**: It cannot capture non-linear relationships without transformation of variables.\n",
    "\n",
    "<br>\n",
    "<br>\n",
    "<br>\n",
    "\n",
    "### When to use linear regression\n",
    "\n",
    "**Emphasis on Inference**\n",
    "- **Primary Goal**: Inference is the main objective. Linear regression is often superior for inferential purposes compared to other machine learning models.\n",
    "- **Insights and Estimates**: Provides detailed estimates on how features influence the outcome variable, complete with confidence intervals and statistical tests for a thorough understanding.\n",
    "\n",
    "**Ideal as a Baseline Model**\n",
    "- **Simplicity and Comparison**: Serves as an uncomplicated baseline for comparing more complex models.\n",
    "- **Advantages in Clean Data**: Particularly effective with datasets having minimal missing values or outliers.\n",
    "- **No Hyperparameter Tuning**: A significant advantage is the absence of hyperparameter tuning, simplifying the model development process.\n",
    "\n",
    "**Building Stakeholder Trust**\n",
    "- **Familiarity and Credibility**: Linear regression's well-established nature makes it a trustworthy choice among stakeholders initially skeptical of complex machine learning models.\n",
    "- **Step towards Advanced Modeling**: Once the linear regression model is accepted, it sets the stage for introducing and comparing more advanced models, demonstrating additional business value.\n",
    "\n",
    "<br>\n",
    "<br>\n",
    "<br>\n",
    "\n",
    "### When not to use linear regression\n",
    "\n",
    "**Impact of Small Predictive Improvements**\n",
    "- **Business Impact**: In scenarios where minor improvements in predictive accuracy can significantly affect business outcomes, exploring models beyond linear regression is advisable.\n",
    "- **Alternative Models for Better Performance**: Models like gradient boosted trees often outperform linear regression, especially when relationships between features and outcome variables aren't perfectly linear.\n",
    "\n",
    "**Time Constraints in Data Exploration**\n",
    "- **Challenges with Linear Regression**: Linear regression can be adversely affected by issues like missing data, outliers, and correlated features.\n",
    "- **Suitable Alternatives**: In situations with limited time for data cleaning and preprocessing, tree-based models such as random forests are preferable due to their resilience to these data issues.\n",
    "\n",
    "**Situations with More Features Than Observations**\n",
    "- **Inappropriateness of Standard Linear Regression**: When the number of features exceeds the number of observations, standard linear regression is not suitable.\n",
    "- **Solutions**: Opt for feature reduction strategies or models capable of handling high feature-to-observation ratios, such as ridge regression.\n",
    "\n",
    "**Handling Many Correlated Features**\n",
    "- **Limitation in Standard Regression**: Standard regression models struggle with multiple correlated features.\n",
    "- **Better Option**: Ridge regression, a regularized version of linear regression, effectively manages correlated features and offers a more robust solution in such cases.\n",
    "\n"
   ]
  },
  {
   "cell_type": "markdown",
   "id": "23f64bc1-7a41-45e0-a188-bf5c4bc57710",
   "metadata": {},
   "source": [
    "# Code"
   ]
  },
  {
   "cell_type": "code",
   "execution_count": 31,
   "id": "95671375-17a4-45ef-ab99-c742a7d6bbb6",
   "metadata": {},
   "outputs": [],
   "source": [
    "from datasets import load_dataset\n",
    "import numpy as np\n",
    "import pandas as pd\n",
    "import sklearn\n",
    "from linear_regression_numpy import *"
   ]
  },
  {
   "cell_type": "code",
   "execution_count": 32,
   "id": "43938e20-319f-45ff-bb99-74141166624b",
   "metadata": {},
   "outputs": [
    {
     "name": "stderr",
     "output_type": "stream",
     "text": [
      "/Users/leo/.pyenv/versions/3.10.13/lib/python3.10/site-packages/huggingface_hub/repocard.py:105: UserWarning: Repo card metadata block was not found. Setting CardData to empty.\n",
      "  warnings.warn(\"Repo card metadata block was not found. Setting CardData to empty.\")\n"
     ]
    },
    {
     "data": {
      "text/html": [
       "<div>\n",
       "<style scoped>\n",
       "    .dataframe tbody tr th:only-of-type {\n",
       "        vertical-align: middle;\n",
       "    }\n",
       "\n",
       "    .dataframe tbody tr th {\n",
       "        vertical-align: top;\n",
       "    }\n",
       "\n",
       "    .dataframe thead th {\n",
       "        text-align: right;\n",
       "    }\n",
       "</style>\n",
       "<table border=\"1\" class=\"dataframe\">\n",
       "  <thead>\n",
       "    <tr style=\"text-align: right;\">\n",
       "      <th></th>\n",
       "      <th>fixed acidity</th>\n",
       "      <th>volatile acidity</th>\n",
       "      <th>citric acid</th>\n",
       "      <th>residual sugar</th>\n",
       "      <th>chlorides</th>\n",
       "      <th>free sulfur dioxide</th>\n",
       "      <th>total sulfur dioxide</th>\n",
       "      <th>density</th>\n",
       "      <th>pH</th>\n",
       "      <th>sulphates</th>\n",
       "      <th>alcohol</th>\n",
       "      <th>quality</th>\n",
       "    </tr>\n",
       "  </thead>\n",
       "  <tbody>\n",
       "    <tr>\n",
       "      <th>0</th>\n",
       "      <td>7.4</td>\n",
       "      <td>0.70</td>\n",
       "      <td>0.00</td>\n",
       "      <td>1.9</td>\n",
       "      <td>0.076</td>\n",
       "      <td>11.0</td>\n",
       "      <td>34.0</td>\n",
       "      <td>0.9978</td>\n",
       "      <td>3.51</td>\n",
       "      <td>0.56</td>\n",
       "      <td>9.4</td>\n",
       "      <td>5</td>\n",
       "    </tr>\n",
       "    <tr>\n",
       "      <th>1</th>\n",
       "      <td>7.8</td>\n",
       "      <td>0.88</td>\n",
       "      <td>0.00</td>\n",
       "      <td>2.6</td>\n",
       "      <td>0.098</td>\n",
       "      <td>25.0</td>\n",
       "      <td>67.0</td>\n",
       "      <td>0.9968</td>\n",
       "      <td>3.20</td>\n",
       "      <td>0.68</td>\n",
       "      <td>9.8</td>\n",
       "      <td>5</td>\n",
       "    </tr>\n",
       "    <tr>\n",
       "      <th>2</th>\n",
       "      <td>7.8</td>\n",
       "      <td>0.76</td>\n",
       "      <td>0.04</td>\n",
       "      <td>2.3</td>\n",
       "      <td>0.092</td>\n",
       "      <td>15.0</td>\n",
       "      <td>54.0</td>\n",
       "      <td>0.9970</td>\n",
       "      <td>3.26</td>\n",
       "      <td>0.65</td>\n",
       "      <td>9.8</td>\n",
       "      <td>5</td>\n",
       "    </tr>\n",
       "    <tr>\n",
       "      <th>3</th>\n",
       "      <td>11.2</td>\n",
       "      <td>0.28</td>\n",
       "      <td>0.56</td>\n",
       "      <td>1.9</td>\n",
       "      <td>0.075</td>\n",
       "      <td>17.0</td>\n",
       "      <td>60.0</td>\n",
       "      <td>0.9980</td>\n",
       "      <td>3.16</td>\n",
       "      <td>0.58</td>\n",
       "      <td>9.8</td>\n",
       "      <td>6</td>\n",
       "    </tr>\n",
       "    <tr>\n",
       "      <th>4</th>\n",
       "      <td>7.4</td>\n",
       "      <td>0.70</td>\n",
       "      <td>0.00</td>\n",
       "      <td>1.9</td>\n",
       "      <td>0.076</td>\n",
       "      <td>11.0</td>\n",
       "      <td>34.0</td>\n",
       "      <td>0.9978</td>\n",
       "      <td>3.51</td>\n",
       "      <td>0.56</td>\n",
       "      <td>9.4</td>\n",
       "      <td>5</td>\n",
       "    </tr>\n",
       "  </tbody>\n",
       "</table>\n",
       "</div>"
      ],
      "text/plain": [
       "   fixed acidity  volatile acidity  citric acid  residual sugar  chlorides  \\\n",
       "0            7.4              0.70         0.00             1.9      0.076   \n",
       "1            7.8              0.88         0.00             2.6      0.098   \n",
       "2            7.8              0.76         0.04             2.3      0.092   \n",
       "3           11.2              0.28         0.56             1.9      0.075   \n",
       "4            7.4              0.70         0.00             1.9      0.076   \n",
       "\n",
       "   free sulfur dioxide  total sulfur dioxide  density    pH  sulphates  \\\n",
       "0                 11.0                  34.0   0.9978  3.51       0.56   \n",
       "1                 25.0                  67.0   0.9968  3.20       0.68   \n",
       "2                 15.0                  54.0   0.9970  3.26       0.65   \n",
       "3                 17.0                  60.0   0.9980  3.16       0.58   \n",
       "4                 11.0                  34.0   0.9978  3.51       0.56   \n",
       "\n",
       "   alcohol  quality  \n",
       "0      9.4        5  \n",
       "1      9.8        5  \n",
       "2      9.8        5  \n",
       "3      9.8        6  \n",
       "4      9.4        5  "
      ]
     },
     "execution_count": 32,
     "metadata": {},
     "output_type": "execute_result"
    }
   ],
   "source": [
    "dataset = load_dataset(\"lvwerra/red-wine\", split='train')\n",
    "df = dataset.to_pandas()\n",
    "df.head()"
   ]
  },
  {
   "cell_type": "code",
   "execution_count": 49,
   "id": "054902c6-bad7-4928-a63a-4f5610a54d97",
   "metadata": {},
   "outputs": [
    {
     "name": "stdout",
     "output_type": "stream",
     "text": [
      "(1599, 11)\n",
      "(1599,)\n"
     ]
    }
   ],
   "source": [
    "X = np.array(df.iloc[:,:-1])\n",
    "y = np.array(df.iloc[:,-1])\n",
    "print(X.shape)\n",
    "print(y.shape)"
   ]
  },
  {
   "cell_type": "markdown",
   "id": "b0fffd59-5c11-4e90-883c-68016299914b",
   "metadata": {},
   "source": [
    "# Numpy Version"
   ]
  },
  {
   "cell_type": "code",
   "execution_count": 50,
   "id": "593700c8-0d12-4120-88ea-6e634d922d21",
   "metadata": {},
   "outputs": [
    {
     "data": {
      "text/plain": [
       "array([ 4.19374044e-03, -1.09974310e+00, -1.84145975e-01,  7.07117376e-03,\n",
       "       -1.91141882e+00,  4.54780884e-03, -3.31855188e-03,  4.52914616e+00,\n",
       "       -5.22898302e-01,  8.87076125e-01,  2.97022815e-01])"
      ]
     },
     "execution_count": 50,
     "metadata": {},
     "output_type": "execute_result"
    }
   ],
   "source": [
    "w1 = linear_regression_noreg(X,y)\n",
    "w1"
   ]
  },
  {
   "cell_type": "code",
   "execution_count": 51,
   "id": "95f621e1-ed03-412c-ab33-f98612923c2b",
   "metadata": {},
   "outputs": [
    {
     "data": {
      "text/plain": [
       "array([ 1.17661420e-02, -1.10271896e+00, -1.92798798e-01,  6.86766942e-03,\n",
       "       -1.76428188e+00,  4.42122417e-03, -3.19166628e-03,  4.10710674e+00,\n",
       "       -4.24248520e-01,  8.80496709e-01,  2.99207408e-01])"
      ]
     },
     "execution_count": 51,
     "metadata": {},
     "output_type": "execute_result"
    }
   ],
   "source": [
    "w1_reg = regularized_linear_regression(X,y,0.1)\n",
    "w1_reg"
   ]
  },
  {
   "cell_type": "code",
   "execution_count": 52,
   "id": "1368773c-1ff1-429c-b95b-2eeed1c3706b",
   "metadata": {},
   "outputs": [
    {
     "data": {
      "text/plain": [
       "5.039162131900398"
      ]
     },
     "execution_count": 52,
     "metadata": {},
     "output_type": "execute_result"
    }
   ],
   "source": [
    "np.matmul(X[0],w1)"
   ]
  },
  {
   "cell_type": "code",
   "execution_count": 53,
   "id": "e7eb2e79-3024-434f-a24d-51b83f697b7a",
   "metadata": {},
   "outputs": [
    {
     "data": {
      "text/plain": [
       "5.048832729962756"
      ]
     },
     "execution_count": 53,
     "metadata": {},
     "output_type": "execute_result"
    }
   ],
   "source": [
    "np.matmul(X[0],w1_reg)"
   ]
  },
  {
   "cell_type": "code",
   "execution_count": 56,
   "id": "f2aed2dc-33ce-4fe0-9e86-e16be213620b",
   "metadata": {},
   "outputs": [
    {
     "data": {
      "text/plain": [
       "array([5.03916213, 5.14276918])"
      ]
     },
     "execution_count": 56,
     "metadata": {},
     "output_type": "execute_result"
    }
   ],
   "source": [
    "y_hat = np.matmul(X[0:2],w1)\n",
    "y_hat"
   ]
  },
  {
   "cell_type": "code",
   "execution_count": 59,
   "id": "8cf44201-3e58-46b4-87e1-e2842e95eb14",
   "metadata": {},
   "outputs": [
    {
     "data": {
      "text/plain": [
       "0.010958355335190993"
      ]
     },
     "execution_count": 59,
     "metadata": {},
     "output_type": "execute_result"
    }
   ],
   "source": [
    "np.square(np.linalg.norm(np.matmul(X[0:2], w1) - y[0:2])) / 2 # mean square error"
   ]
  },
  {
   "cell_type": "markdown",
   "id": "5ffb4769-07a3-48aa-b4ce-8c0b3be659c0",
   "metadata": {},
   "source": [
    "# Sklearn Version"
   ]
  },
  {
   "cell_type": "code",
   "execution_count": 81,
   "id": "3f49ac66-a3f9-4126-9895-7167843189d7",
   "metadata": {},
   "outputs": [
    {
     "data": {
      "text/plain": [
       "0.3605517030386882"
      ]
     },
     "execution_count": 81,
     "metadata": {},
     "output_type": "execute_result"
    }
   ],
   "source": [
    "from sklearn import linear_model\n",
    "model = linear_model.LinearRegression()\n",
    "model.fit(X,y)\n",
    "model.score(X,y)"
   ]
  },
  {
   "cell_type": "code",
   "execution_count": 82,
   "id": "f05809d9-8e70-42d4-97a3-173603cb0b16",
   "metadata": {},
   "outputs": [
    {
     "data": {
      "text/plain": [
       "array([ 2.49905527e-02, -1.08359026e+00, -1.82563948e-01,  1.63312698e-02,\n",
       "       -1.87422516e+00,  4.36133331e-03, -3.26457970e-03, -1.78811638e+01,\n",
       "       -4.13653144e-01,  9.16334413e-01,  2.76197699e-01])"
      ]
     },
     "execution_count": 82,
     "metadata": {},
     "output_type": "execute_result"
    }
   ],
   "source": [
    "model.coef_"
   ]
  },
  {
   "cell_type": "code",
   "execution_count": 83,
   "id": "7318364c-4f2a-4a34-ba95-bb6bf228d32c",
   "metadata": {},
   "outputs": [
    {
     "data": {
      "text/plain": [
       "21.965208449448745"
      ]
     },
     "execution_count": 83,
     "metadata": {},
     "output_type": "execute_result"
    }
   ],
   "source": [
    "model.intercept_"
   ]
  },
  {
   "cell_type": "code",
   "execution_count": 84,
   "id": "64ff79bd-9ae1-47cf-a403-a1bf8e6ca14d",
   "metadata": {},
   "outputs": [
    {
     "data": {
      "text/plain": [
       "array([5.03285045])"
      ]
     },
     "execution_count": 84,
     "metadata": {},
     "output_type": "execute_result"
    }
   ],
   "source": [
    "model.predict(X[0].reshape(1,-1))"
   ]
  },
  {
   "cell_type": "code",
   "execution_count": 85,
   "id": "19f864b9-cb84-4089-b935-5c19113bb67a",
   "metadata": {},
   "outputs": [
    {
     "data": {
      "text/plain": [
       "array([5.03285045, 5.13787975])"
      ]
     },
     "execution_count": 85,
     "metadata": {},
     "output_type": "execute_result"
    }
   ],
   "source": [
    "model.predict(X[0:2])"
   ]
  },
  {
   "cell_type": "code",
   "execution_count": 86,
   "id": "2c76ad7a-5c14-423a-be6a-0f09c09e6ec3",
   "metadata": {},
   "outputs": [
    {
     "data": {
      "text/plain": [
       "0.3600080990560508"
      ]
     },
     "execution_count": 86,
     "metadata": {},
     "output_type": "execute_result"
    }
   ],
   "source": [
    "model_ridge = linear_model.Ridge(alpha=.5)\n",
    "model_ridge.fit(X,y)\n",
    "model_ridge.score(X,y)"
   ]
  },
  {
   "cell_type": "code",
   "execution_count": 87,
   "id": "7034eceb-b9ed-4167-87d5-64cf265efad3",
   "metadata": {},
   "outputs": [
    {
     "data": {
      "text/plain": [
       "array([ 0.01137014, -1.10532042, -0.19550803,  0.00817498, -1.57644611,\n",
       "        0.00448973, -0.00325348, -0.03720202, -0.46607059,  0.84996549,\n",
       "        0.29601556])"
      ]
     },
     "execution_count": 87,
     "metadata": {},
     "output_type": "execute_result"
    }
   ],
   "source": [
    "model_ridge.coef_"
   ]
  },
  {
   "cell_type": "code",
   "execution_count": 88,
   "id": "40bce1e6-2af7-4831-8b15-f7512df2dde2",
   "metadata": {},
   "outputs": [
    {
     "data": {
      "text/plain": [
       "array([5.04078482, 5.13782832])"
      ]
     },
     "execution_count": 88,
     "metadata": {},
     "output_type": "execute_result"
    }
   ],
   "source": [
    "model_ridge.predict(X[0:2])"
   ]
  },
  {
   "cell_type": "code",
   "execution_count": 98,
   "id": "96380b43-8c6e-4a76-b381-dbf95e80fe87",
   "metadata": {},
   "outputs": [
    {
     "data": {
      "text/plain": [
       "0.23937236014517005"
      ]
     },
     "execution_count": 98,
     "metadata": {},
     "output_type": "execute_result"
    }
   ],
   "source": [
    "model_lasso = linear_model.Lasso(alpha=.1)\n",
    "model_lasso.fit(X,y)\n",
    "model_lasso.score(X,y)"
   ]
  },
  {
   "cell_type": "code",
   "execution_count": 99,
   "id": "d855f8e5-4e09-4796-968b-99fdf670a8a0",
   "metadata": {},
   "outputs": [
    {
     "data": {
      "text/plain": [
       "array([ 0.031408  , -0.        ,  0.        ,  0.        , -0.        ,\n",
       "        0.00571672, -0.00377281, -0.        , -0.        ,  0.        ,\n",
       "        0.25583985])"
      ]
     },
     "execution_count": 99,
     "metadata": {},
     "output_type": "execute_result"
    }
   ],
   "source": [
    "model_lasso.coef_"
   ]
  },
  {
   "cell_type": "code",
   "execution_count": 100,
   "id": "1df0c91c-c6b1-4c39-a5f5-dab7a7f00cd6",
   "metadata": {},
   "outputs": [
    {
     "data": {
      "text/plain": [
       "array([5.36458877, 5.4350192 ])"
      ]
     },
     "execution_count": 100,
     "metadata": {},
     "output_type": "execute_result"
    }
   ],
   "source": [
    "model_lasso.predict(X[0:2])"
   ]
  },
  {
   "cell_type": "code",
   "execution_count": null,
   "id": "4c855ce7-a65b-4c6a-83ac-ec3cdb3cc78d",
   "metadata": {},
   "outputs": [],
   "source": []
  }
 ],
 "metadata": {
  "kernelspec": {
   "display_name": "Python 3 (ipykernel)",
   "language": "python",
   "name": "python3"
  },
  "language_info": {
   "codemirror_mode": {
    "name": "ipython",
    "version": 3
   },
   "file_extension": ".py",
   "mimetype": "text/x-python",
   "name": "python",
   "nbconvert_exporter": "python",
   "pygments_lexer": "ipython3",
   "version": "3.10.13"
  }
 },
 "nbformat": 4,
 "nbformat_minor": 5
}
